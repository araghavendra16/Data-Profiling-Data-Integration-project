{
 "cells": [
  {
   "cell_type": "markdown",
   "metadata": {},
   "source": [
    "### This script prepares the data to be loaded in the DB according to the ER diagram. The script takes in each of the cleaned orginal files and break it down to numerous normalized tables files which are then inserted into the database"
   ]
  },
  {
   "cell_type": "code",
   "execution_count": null,
   "metadata": {},
   "outputs": [],
   "source": [
    "import pandas as pd\n"
   ]
  },
  {
   "cell_type": "markdown",
   "metadata": {},
   "source": [
    "#### Create data for the Normalized ER diagram for each of the file"
   ]
  },
  {
   "cell_type": "code",
   "execution_count": null,
   "metadata": {},
   "outputs": [],
   "source": [
    "\n",
    "## Use each one of them to create the respected file for the ER model and store them in the loading data folder\n",
    "file_name = \"Avellino_municipalities_c2\"\n",
    "file_name = \"Salerno_municipalities_c2\"\n",
    "file_name = \"Caserta_municipalities_c2\"\n",
    "\n",
    "df = pd.read_csv(f\"./data/{file_name}.csv\")\n"
   ]
  },
  {
   "cell_type": "code",
   "execution_count": null,
   "metadata": {},
   "outputs": [],
   "source": [
    "## Adding unique pk as there is no duplication\n",
    "df = df.reset_index()"
   ]
  },
  {
   "cell_type": "markdown",
   "metadata": {},
   "source": [
    "#### Geography"
   ]
  },
  {
   "cell_type": "code",
   "execution_count": null,
   "metadata": {},
   "outputs": [],
   "source": [
    "df_geography = df[[\"index\", \"Codice Postale\", \"Superficie\", \"GeolocalizzazioneLattitude\", \"GeolocalizzazioneLongitude\"]]\n",
    "df_geography.columns = [\"commune_id\",\"codice_postal\",\"superficie\",\"latitude\",\"longitude\"]\n",
    "df_geography.to_csv(f\"./loading data/{file_name}_geography.csv\", index = False)"
   ]
  },
  {
   "cell_type": "markdown",
   "metadata": {},
   "source": [
    "#### Demographic"
   ]
  },
  {
   "cell_type": "code",
   "execution_count": null,
   "metadata": {},
   "outputs": [],
   "source": [
    "df_demographic = df[[\"index\", \"Numero di abitanti\", \"Sindaco\"]]\n",
    "df_demographic.columns = [\"commune_id\",\"numero_di_abitanti\",\"sindaco\"]\n",
    "df_demographic.to_csv(f\"./loading data/{file_name}_demography.csv\", index = False)"
   ]
  },
  {
   "cell_type": "markdown",
   "metadata": {},
   "source": [
    "#### Development"
   ]
  },
  {
   "cell_type": "code",
   "execution_count": null,
   "metadata": {},
   "outputs": [],
   "source": [
    "df_development = df[[\"index\", 'Numero di aziende', 'Numero di scuole']]\n",
    "df_development.columns = [\"commune_id\", \"numero_di_aziende\",\"numero_di_scuole\"]\n",
    "df_development.to_csv(f\"./loading data/{file_name}_development.csv\", index = False)"
   ]
  },
  {
   "cell_type": "markdown",
   "metadata": {},
   "source": [
    "#### History"
   ]
  },
  {
   "cell_type": "code",
   "execution_count": null,
   "metadata": {},
   "outputs": [],
   "source": [
    "df_history = df[[\"index\", 'Epoca di fondazione', 'Secolo di fondazione', 'Anno di fondazione','Etimologia del nome', 'Storia']]\n",
    "df_history.columns = [\"commune_id\", \"epoca_di_fondazione\",\"secolo_di_fondazione\",\"anno_di_fondazione\",\"etimologia_del_nome\",\"storia\"]\n",
    "df_history.to_csv(f\"./loading data/{file_name}_history.csv\", index = False)"
   ]
  },
  {
   "cell_type": "markdown",
   "metadata": {},
   "source": [
    "#### Statistics"
   ]
  },
  {
   "cell_type": "code",
   "execution_count": null,
   "metadata": {},
   "outputs": [],
   "source": [
    "df_statistics = df[[\"index\", 'Numero di frazioni', 'Numero di punti di interesse']]\n",
    "df_statistics.columns = [\"commune_id\",\"numero_di_frazioni\",\"numero_di_punti_di_interesse\"]\n",
    "df_statistics.to_csv(f\"./loading data/{file_name}_statistics.csv\", index = False)\n"
   ]
  },
  {
   "cell_type": "markdown",
   "metadata": {},
   "source": [
    "#### Saints"
   ]
  },
  {
   "cell_type": "code",
   "execution_count": null,
   "metadata": {},
   "outputs": [],
   "source": [
    "df_saints = df[[\"index\", \"Patrono\"]]\n",
    "## Splits the saints\n",
    "def split_saints(x):\n",
    "    if not pd.isna(x):\n",
    "            return  [i.strip().strip(\".\") for i in x.split(\",\")]\n",
    "    else:\n",
    "        return pd.NA\n",
    "\n",
    "df_saints = df_saints.set_index([\"index\"])[\"Patrono\"].apply(split_saints).explode().reset_index()\n",
    "df_saints.columns = [\"commune_id\",\"patrono\"]\n",
    "df_saints.to_csv(f\"./loading data/{file_name}_saints.csv\", index = False)\n"
   ]
  },
  {
   "cell_type": "markdown",
   "metadata": {},
   "source": [
    "#### Inhabitants"
   ]
  },
  {
   "cell_type": "code",
   "execution_count": null,
   "metadata": {},
   "outputs": [],
   "source": [
    "df_inhabitants = df[[\"index\", 'Nome degli abitanti']]\n",
    "\n",
    "## Splits the inhabitants\n",
    "def split_inhabitants(x):\n",
    "    if not pd.isna(x):\n",
    "            return [i.strip().strip(\".\").capitalize() for i in x.split(\",\")]\n",
    "    else:\n",
    "        return pd.NA\n",
    "\n",
    "df_inhabitants = df_inhabitants.set_index([\"index\"])['Nome degli abitanti'].apply(split_inhabitants).explode().reset_index()\n",
    "df_inhabitants.columns = [\"commue_id\",\"nome_degli_abitanti\"]\n",
    "df_inhabitants.to_csv(f\"./loading data/{file_name}_inhabitants.csv\", index = False)\n",
    "\n"
   ]
  },
  {
   "cell_type": "markdown",
   "metadata": {},
   "source": [
    "#### Breakdown"
   ]
  },
  {
   "cell_type": "code",
   "execution_count": null,
   "metadata": {},
   "outputs": [],
   "source": [
    "df_breakdown = df[[\"index\", \"Frazioni\"]]\n",
    "\n",
    "## Splits the breakdown\n",
    "def split_breakdown(x):\n",
    "    if not pd.isna(x):\n",
    "            return [i.strip().strip(\".\").capitalize() for i in x.split(\",\")]\n",
    "    else:\n",
    "        return pd.NA\n",
    "\n",
    "df_breakdown = df_breakdown.set_index([\"index\"])[\"Frazioni\"].apply(split_breakdown).explode().reset_index()\n",
    "df_breakdown.columns = [\"commune_id\", \"frazioni\"]\n",
    "df_breakdown.to_csv(f\"./loading data/{file_name}_breakdown.csv\", index = False)\n"
   ]
  },
  {
   "cell_type": "markdown",
   "metadata": {},
   "source": [
    "#### Routes"
   ]
  },
  {
   "cell_type": "code",
   "execution_count": null,
   "metadata": {},
   "outputs": [],
   "source": [
    "df_routes = df[[\"index\", \"Percorsi\"]]\n",
    "## Splits the routes\n",
    "def split_routes(x):\n",
    "    if not pd.isna(x):\n",
    "            return  [i.strip().strip(\".\").strip(\"\\\"\").capitalize()  for i in x.split(\",\")]\n",
    "    else:\n",
    "        return pd.NA\n",
    "\n",
    "df_routes = df_routes.set_index([\"index\"])[\"Percorsi\"].apply(split_routes).explode().reset_index()\n",
    "df_routes.columns = [\"commune_id\", \"percorso\"]\n",
    "df_routes.to_csv(f\"./loading data/{file_name}_routes.csv\", index = False)\n"
   ]
  },
  {
   "cell_type": "markdown",
   "metadata": {},
   "source": [
    "#### Events"
   ]
  },
  {
   "cell_type": "code",
   "execution_count": null,
   "metadata": {},
   "outputs": [],
   "source": [
    "df_events = df[[\"index\", \"Eventi\"]]\n",
    "\n",
    "## Splits the events\n",
    "def split_events(x):\n",
    "    if not pd.isna(x):\n",
    "\n",
    "            return [i.strip().strip(\".\").strip(\"\\\"\").capitalize() for i in x.split(\",\")]\n",
    "    else:\n",
    "        return pd.NA\n",
    "\n",
    "\n",
    "df_events = df_events.set_index([\"index\"])[\"Eventi\"].apply(split_events).explode().reset_index()\n",
    "df_events.columns = [\"commune_id\", \"event\"]\n",
    "df_events.to_csv(f\"./loading data/{file_name}_events.csv\", index = False)\n"
   ]
  },
  {
   "cell_type": "markdown",
   "metadata": {},
   "source": [
    "#### Holidays"
   ]
  },
  {
   "cell_type": "code",
   "execution_count": null,
   "metadata": {},
   "outputs": [],
   "source": [
    "df_holidays = df[[\"index\", 'Giorno festivo month', 'Giorno festivo day']]\n",
    "df_holidays.columns = [\"commune_id\",\"month\",\"day\"]\n",
    "df_holidays.to_csv(f\"./loading data/{file_name}_holidays.csv\", index = False)\n"
   ]
  },
  {
   "cell_type": "markdown",
   "metadata": {},
   "source": [
    "#### Municipality"
   ]
  },
  {
   "cell_type": "code",
   "execution_count": null,
   "metadata": {},
   "outputs": [],
   "source": [
    "df_municipality = df[[\"index\", 'Nome Comune']]\n",
    "df_municipality.columns = [\"commune_id\",\"nome\"]\n",
    "df_municipality.to_csv(f\"./loading data/{file_name}_municipality.csv\", index = False)\n"
   ]
  },
  {
   "cell_type": "markdown",
   "metadata": {},
   "source": [
    "#### Images"
   ]
  },
  {
   "cell_type": "code",
   "execution_count": null,
   "metadata": {},
   "outputs": [],
   "source": [
    "df_images = df[[\"index\", 'Immagine']]\n",
    "df_images.columns = [\"commune_id\",\"immagine\"]\n",
    "df_images.to_csv(f\"./loading data/{file_name}_images.csv\", index = False)\n",
    "\n",
    "df_images.shape"
   ]
  }
 ],
 "metadata": {
  "interpreter": {
   "hash": "dae94bb1bfbfcae3cc34d75236009853a8116fa96a287e80472ac3550073b336"
  },
  "kernelspec": {
   "display_name": "Python 3.8.5 ('base')",
   "language": "python",
   "name": "python3"
  },
  "language_info": {
   "codemirror_mode": {
    "name": "ipython",
    "version": 3
   },
   "file_extension": ".py",
   "mimetype": "text/x-python",
   "name": "python",
   "nbconvert_exporter": "python",
   "pygments_lexer": "ipython3",
   "version": "3.8.5"
  },
  "orig_nbformat": 4
 },
 "nbformat": 4,
 "nbformat_minor": 2
}
