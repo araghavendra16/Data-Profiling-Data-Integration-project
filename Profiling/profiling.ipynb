{
 "cells": [
  {
   "cell_type": "markdown",
   "metadata": {},
   "source": [
    "### The main goal of this script is to perform basic profiling of the original files, assisting in exploring, cleaning and understanding the 3 data sources(3 csv files provided). In addition, standardizing the files to be processed and later normalized and loaded into the DB "
   ]
  },
  {
   "cell_type": "markdown",
   "metadata": {},
   "source": [
    "### Libraries"
   ]
  },
  {
   "cell_type": "code",
   "execution_count": null,
   "metadata": {},
   "outputs": [],
   "source": [
    "import pandas as pd\n",
    "from IPython.display import Image\n",
    "from pandas_profiling import ProfileReport\n"
   ]
  },
  {
   "cell_type": "markdown",
   "metadata": {},
   "source": [
    "MUNICIPALITIES AND GEOGRAPHICAL BREAKDOWNS: \n",
    "*   Avellino Municipalities [CSV] [118x23]\n",
    "*   Caserta Municipalities [CSV] [104x23]\n",
    "*   Salerno Municipalities [CSV] [154x23]\n"
   ]
  },
  {
   "cell_type": "markdown",
   "metadata": {},
   "source": [
    "### Data source descriptions"
   ]
  },
  {
   "cell_type": "code",
   "execution_count": null,
   "metadata": {},
   "outputs": [],
   "source": [
    "Image(filename=\"./images/avellino.png\")"
   ]
  },
  {
   "cell_type": "code",
   "execution_count": null,
   "metadata": {},
   "outputs": [],
   "source": [
    "Image(filename=\"./images/caserta.png\")"
   ]
  },
  {
   "cell_type": "code",
   "execution_count": null,
   "metadata": {},
   "outputs": [],
   "source": [
    "Image(filename=\"./images/salerno.png\")"
   ]
  },
  {
   "cell_type": "code",
   "execution_count": null,
   "metadata": {},
   "outputs": [],
   "source": [
    "df_avellino_municipalities = pd.read_csv(\"./data/Avellino_municipalities.csv\",index_col=False)\n",
    "df_caserta_municipalities = pd.read_csv(\"./data/Caserta_municipalities.csv\",index_col=False)\n",
    "df_salerno_municipalities = pd.read_csv(\"./data/Salerno_municipalities.csv\",index_col=False)\n",
    "\n",
    "\n",
    "print(\"Dimensions of Avellino Municipalities : \", df_avellino_municipalities.shape)\n",
    "print(\"Dimensions of Caserta Municipalities : \", df_caserta_municipalities.shape)\n",
    "print(\"Dimensions of Salerno Municipalities : \", df_salerno_municipalities.shape)\n"
   ]
  },
  {
   "cell_type": "markdown",
   "metadata": {},
   "source": [
    "### Pandas Profiling"
   ]
  },
  {
   "cell_type": "code",
   "execution_count": null,
   "metadata": {},
   "outputs": [],
   "source": [
    "profile_avellino = ProfileReport(df_avellino_municipalities, title= \"Avellino\")\n",
    "profile_avellino\n"
   ]
  },
  {
   "cell_type": "code",
   "execution_count": null,
   "metadata": {},
   "outputs": [],
   "source": [
    "profile_caserta = ProfileReport(df_caserta_municipalities, title= \"Caserta\")\n",
    "profile_caserta"
   ]
  },
  {
   "cell_type": "code",
   "execution_count": null,
   "metadata": {},
   "outputs": [],
   "source": [
    "profile_salerno = ProfileReport(df_salerno_municipalities, title= \"Salerno\")\n",
    "profile_salerno\n"
   ]
  },
  {
   "cell_type": "markdown",
   "metadata": {},
   "source": [
    "### Data cleaning and Running profiling again"
   ]
  },
  {
   "cell_type": "code",
   "execution_count": null,
   "metadata": {},
   "outputs": [],
   "source": [
    "df_avellino_municipalities = pd.read_csv(\"./data/Avellino_municipalities_c1.csv\",index_col=False)\n",
    "df_casesrta_municipalities = pd.read_csv(\"./data/Caserta_municipalities_c1.csv\",index_col=False)\n",
    "df_salerno_municipalities = pd.read_csv(\"./data/Salerno_municipalities_c1.csv\",index_col=False)"
   ]
  },
  {
   "cell_type": "code",
   "execution_count": null,
   "metadata": {},
   "outputs": [],
   "source": [
    "def get_day(x):\n",
    "\n",
    "    if not pd.isna(x):\n",
    "        return int(x.split(\" \")[0]) \n",
    "\n",
    "    else:\n",
    "        return pd.NA\n",
    "\n",
    "def get_month(x):\n",
    "    \n",
    "    if not pd.isna(x):\n",
    "        return x.split(\" \")[1].capitalize() \n",
    "\n",
    "    else:\n",
    "        return pd.NA\n"
   ]
  },
  {
   "cell_type": "markdown",
   "metadata": {},
   "source": [
    "#### Splitted Giorno festivo and break into day and month and standardized the date "
   ]
  },
  {
   "cell_type": "code",
   "execution_count": null,
   "metadata": {},
   "outputs": [],
   "source": [
    "\n",
    "\n",
    "df_avellino_municipalities[\"Giorno festivo month\"] = df_avellino_municipalities[\"Giorno festivo\"].apply(get_month)\n",
    "df_avellino_municipalities[\"Giorno festivo day\"] = df_avellino_municipalities[\"Giorno festivo\"].apply(get_day)\n",
    "df_avellino_municipalities.drop([\"Giorno festivo\"], axis = 1, inplace=True)\n",
    "\n",
    "df_casesrta_municipalities[\"Giorno festivo month\"] = df_casesrta_municipalities[\"Giorno festivo\"].apply(get_month)\n",
    "df_casesrta_municipalities[\"Giorno festivo day\"] = df_casesrta_municipalities[\"Giorno festivo\"].apply(get_day)\n",
    "df_casesrta_municipalities.drop([\"Giorno festivo\"], axis = 1, inplace=True)\n",
    "\n",
    "df_salerno_municipalities[\"Giorno festivo month\"] = df_salerno_municipalities[\"Giorno festivo\"].apply(get_month)\n",
    "df_salerno_municipalities[\"Giorno festivo day\"] = df_salerno_municipalities[\"Giorno festivo\"].apply(get_day)\n",
    "df_salerno_municipalities.drop([\"Giorno festivo\"], axis = 1, inplace=True)"
   ]
  },
  {
   "cell_type": "markdown",
   "metadata": {},
   "source": [
    "#### Converted missing values to NULLS"
   ]
  },
  {
   "cell_type": "code",
   "execution_count": null,
   "metadata": {},
   "outputs": [],
   "source": [
    "\n",
    "df_avellino_municipalities = df_avellino_municipalities.replace({\"Informazione Assente\": pd.NA,\n",
    "                                                                pd.NA:pd.NA, \n",
    "                                                                \"Non ha frazioni\":pd.NA,\n",
    "                                                                \"Informazione assente\": pd.NA,\n",
    "                                                                })\n",
    "\n",
    "\n",
    "df_casesrta_municipalities = df_casesrta_municipalities.replace({\"Informazione Assente\": pd.NA,\n",
    "                                                                pd.NA:pd.NA, \n",
    "                                                                \"Non ha frazioni\":pd.NA,\n",
    "                                                                \"Informazione assente\": pd.NA,\n",
    "                                                                })\n",
    "\n",
    "df_salerno_municipalities = df_salerno_municipalities.replace({\"Informazione Assente\": pd.NA,\n",
    "                                                                pd.NA:pd.NA, \n",
    "                                                                \"Non ha frazioni\":pd.NA,\n",
    "                                                                \"Informazione assente\": pd.NA,\n",
    "                                                                })\n"
   ]
  },
  {
   "cell_type": "markdown",
   "metadata": {},
   "source": [
    "#### Broke the GeolocalizzazioneLattitude into latitude and longitude "
   ]
  },
  {
   "cell_type": "code",
   "execution_count": null,
   "metadata": {},
   "outputs": [],
   "source": [
    "\n",
    "\n",
    "df_avellino_municipalities[\"GeolocalizzazioneLattitude\"] = df_avellino_municipalities[\"Geolocalizzazione\"].apply(lambda x: float(x.split(\",\")[0]))\n",
    "df_avellino_municipalities[\"GeolocalizzazioneLongitude\"] = df_avellino_municipalities[\"Geolocalizzazione\"].apply(lambda x: float(x.split(\",\")[1]))\n",
    "df_avellino_municipalities.drop([\"Geolocalizzazione\"], axis = 1, inplace=True)\n",
    "\n",
    "\n",
    "df_casesrta_municipalities[\"GeolocalizzazioneLattitude\"] = df_casesrta_municipalities[\"Geolocalizzazione\"].apply(lambda x: float(x.split(\",\")[0]))\n",
    "df_casesrta_municipalities[\"GeolocalizzazioneLongitude\"] = df_casesrta_municipalities[\"Geolocalizzazione\"].apply(lambda x: float(x.split(\",\")[1]))\n",
    "df_casesrta_municipalities.drop([\"Geolocalizzazione\"], axis = 1, inplace=True)\n",
    "\n",
    "\n",
    "df_salerno_municipalities[\"GeolocalizzazioneLattitude\"] = df_salerno_municipalities[\"Geolocalizzazione\"].apply(lambda x: float(x.split(\",\")[0]))\n",
    "df_salerno_municipalities[\"GeolocalizzazioneLongitude\"] = df_salerno_municipalities[\"Geolocalizzazione\"].apply(lambda x: float(x.split(\",\")[1]))\n",
    "df_salerno_municipalities.drop([\"Geolocalizzazione\"], axis = 1, inplace=True)\n"
   ]
  },
  {
   "cell_type": "markdown",
   "metadata": {},
   "source": [
    "### Profiling on the new cleaned files"
   ]
  },
  {
   "cell_type": "code",
   "execution_count": null,
   "metadata": {},
   "outputs": [],
   "source": [
    "\n",
    "profile_salerno_c_processed= ProfileReport(df_salerno_municipalities, title= \"Salerno Cleaned\")\n",
    "profile_salerno_c_processed"
   ]
  },
  {
   "cell_type": "code",
   "execution_count": null,
   "metadata": {},
   "outputs": [],
   "source": [
    "\n",
    "profile_caserta_c_processed= ProfileReport(df_casesrta_municipalities, title= \"Caserta Cleaned\")\n",
    "profile_caserta_c_processed"
   ]
  },
  {
   "cell_type": "code",
   "execution_count": null,
   "metadata": {},
   "outputs": [],
   "source": [
    "\n",
    "\n",
    "profile_avellino_c_processed= ProfileReport(df_avellino_municipalities, title= \"Avellino Cleaned\")\n",
    "profile_avellino_c_processed"
   ]
  },
  {
   "cell_type": "markdown",
   "metadata": {},
   "source": [
    "#### Saving the cleaned files"
   ]
  },
  {
   "cell_type": "code",
   "execution_count": null,
   "metadata": {},
   "outputs": [],
   "source": [
    "df_avellino_municipalities.to_csv(\"./data/Avellino_municipalities_c2.csv\", index = False)\n",
    "df_casesrta_municipalities.to_csv(\"./data/Caserta_municipalities_c2.csv\", index = False)\n",
    "df_salerno_municipalities.to_csv(\"./data/Salerno_municipalities_c2.csv\", index = False)"
   ]
  }
 ],
 "metadata": {
  "interpreter": {
   "hash": "dae94bb1bfbfcae3cc34d75236009853a8116fa96a287e80472ac3550073b336"
  },
  "kernelspec": {
   "display_name": "Python 3.8.5 ('base')",
   "language": "python",
   "name": "python3"
  },
  "language_info": {
   "codemirror_mode": {
    "name": "ipython",
    "version": 3
   },
   "file_extension": ".py",
   "mimetype": "text/x-python",
   "name": "python",
   "nbconvert_exporter": "python",
   "pygments_lexer": "ipython3",
   "version": "3.8.5"
  },
  "orig_nbformat": 4
 },
 "nbformat": 4,
 "nbformat_minor": 2
}
